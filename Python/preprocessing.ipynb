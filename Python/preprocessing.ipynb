{
 "cells": [
  {
   "cell_type": "code",
   "execution_count": null,
   "metadata": {},
   "outputs": [],
   "source": [
    "import numpy as np\n",
    "import pandas as pd\n",
    "from PIL import Image\n",
    "import os\n",
    "import cv2\n",
    "import numpy as np\n",
    "from matplotlib.lines import Line2D"
   ]
  },
  {
   "cell_type": "markdown",
   "metadata": {},
   "source": [
    "**Divide the large tiff image into 256*256 blocks**"
   ]
  },
  {
   "cell_type": "code",
   "execution_count": null,
   "metadata": {},
   "outputs": [],
   "source": [
    "def split_tif_pil(input_tif, output_folder, tile_size):\n",
    "    os.makedirs(output_folder, exist_ok=True)\n",
    "\n",
    "    Image.MAX_IMAGE_PIXELS = None\n",
    "    img = Image.open(input_tif)\n",
    "    width, height = img.size\n",
    "\n",
    "    for i in range(0, width, tile_size):\n",
    "        for j in range(0, height, tile_size):\n",
    "            box = (i, j, min(i + tile_size, width), min(j + tile_size, height))\n",
    "            tile = img.crop(box)\n",
    "\n",
    "            output_path = os.path.join(output_folder, f\"tile_{i}_{j}.tif\")\n",
    "            tile.save(output_path, format=\"TIFF\")\n",
    "            print(f\"Saved {output_path}\")\n",
    "\n",
    "\n",
    "split_tif_pil(\n",
    "    \"../Data/skin_TXK6Z4X_D1_processed/tmap/wsi.tif\", \"output_tiles\", tile_size=256\n",
    ")"
   ]
  },
  {
   "cell_type": "markdown",
   "metadata": {},
   "source": [
    "**Change cell maker image background color to transparent**"
   ]
  },
  {
   "cell_type": "code",
   "execution_count": null,
   "metadata": {},
   "outputs": [],
   "source": [
    "A1_cells_layer_path = \"../Data/skin_TXK6Z4X_A1_processed/cells_layer.png\"\n",
    "D1_cells_layer_path = \"../Data/skin_TXK6Z4X_D1_processed/cells_layer.png\"\n",
    "image = cv2.imread(D1_cells_layer_path)\n",
    "\n",
    "hsv = cv2.cvtColor(image, cv2.COLOR_BGR2HSV)\n",
    "\n",
    "lower_red1 = np.array([0, 120, 70])\n",
    "upper_red1 = np.array([10, 255, 255])\n",
    "lower_red2 = np.array([170, 120, 70])\n",
    "upper_red2 = np.array([180, 255, 255])\n",
    "\n",
    "\n",
    "mask1 = cv2.inRange(hsv, lower_red1, upper_red1)\n",
    "mask2 = cv2.inRange(hsv, lower_red2, upper_red2)\n",
    "red_mask = cv2.bitwise_or(mask1, mask2)\n",
    "\n",
    "# Convert the image to RGBA\n",
    "rgba = cv2.cvtColor(image, cv2.COLOR_BGR2BGRA)\n",
    "rgba[:, :, 3] = red_mask\n",
    "\n",
    "cv2.imwrite(\"output.png\", rgba)"
   ]
  }
 ],
 "metadata": {
  "kernelspec": {
   "display_name": "VDS",
   "language": "python",
   "name": "python3"
  },
  "language_info": {
   "name": "python",
   "version": "3.10.13"
  }
 },
 "nbformat": 4,
 "nbformat_minor": 2
}
