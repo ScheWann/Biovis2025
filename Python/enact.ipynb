{
 "cells": [
  {
   "cell_type": "code",
   "execution_count": 1,
   "metadata": {},
   "outputs": [
    {
     "name": "stdout",
     "output_type": "stream",
     "text": [
      "✅ OpenMP environment configured to avoid kernel crash\n"
     ]
    }
   ],
   "source": [
    "import os\n",
    "os.environ[\"OMP_NUM_THREADS\"] = \"1\"\n",
    "os.environ[\"OMP_MAX_ACTIVE_LEVELS\"] = \"1\"\n",
    "os.environ[\"OMP_NESTED\"] = \"FALSE\"\n",
    "os.environ[\"MKL_NUM_THREADS\"] = \"1\"\n",
    "os.environ[\"OPENBLAS_NUM_THREADS\"] = \"1\"\n",
    "print(\"✅ OpenMP environment configured to avoid kernel crash\")\n"
   ]
  },
  {
   "cell_type": "code",
   "execution_count": 2,
   "metadata": {},
   "outputs": [
    {
     "name": "stderr",
     "output_type": "stream",
     "text": [
      "OMP: Info #268: OMP_NESTED variable deprecated, please use OMP_MAX_ACTIVE_LEVELS instead.\n",
      "bioimageio_utils.py (2): pkg_resources is deprecated as an API. See https://setuptools.pypa.io/en/latest/pkg_resources.html. The pkg_resources package is slated for removal as early as 2025-11-30. Refrain from using this package or pin to Setuptools<81.\n",
      "auto.py (21): IProgress not found. Please update jupyter and ipywidgets. See https://ipywidgets.readthedocs.io/en/stable/user_install.html\n",
      "2025-07-03 14:51:40,585 - ENACT - INFO - <initiate_instance_variables> ENACT running with the following configurations: \n",
      " analysis_name: demo-colon2\n",
      " run_synthetic: False\n",
      " cache_dir: ./test_cache\n",
      " wsi_path: ../Backend/Data/H1-TXK6Z4X-D1_SK24-001_A1-5-004.tiff\n",
      " visiumhd_h5_path: ../Backend/Data/Poster/binned_outputs/square_002um/filtered_feature_bc_matrix.h5\n",
      " tissue_positions_path: ../Backend/Data/Poster/binned_outputs/square_002um/spatial/tissue_positions.parquet\n",
      " segmentation: False\n",
      " bin_to_geodataframes: True\n",
      " bin_to_cell_assignment: True\n",
      " cell_type_annotation: False\n",
      " seg_method: stardist\n",
      " image_type: he\n",
      " nucleus_expansion: True\n",
      " expand_by_nbins: 2\n",
      " patch_size: 4000\n",
      " bin_representation: polygon\n",
      " bin_to_cell_method: weighted_by_cluster\n",
      " cell_annotation_method: celltypist\n",
      " cell_typist_model: \n",
      " use_hvg: True\n",
      " n_hvg: 1000\n",
      " destripe_norm: False\n",
      " n_clusters: 4\n",
      " n_pcs: 250\n",
      " chunks_to_run: []\n",
      " block_size: 4096\n",
      " prob_thresh: 0.005\n",
      " overlap_thresh: 0.001\n",
      " min_overlap: 28\n",
      " context: 128\n",
      " n_tiles: (4, 4, 1)\n",
      " stardist_modelname: 2D_versatile_he\n",
      " channel_to_segment: 2\n",
      " cell_markers: {}\n",
      "\n"
     ]
    },
    {
     "name": "stdout",
     "output_type": "stream",
     "text": [
      "原始图像形状: (35809, 53783, 3)\n",
      "图像不是 RGBA，跳过转换。\n"
     ]
    },
    {
     "name": "stderr",
     "output_type": "stream",
     "text": [
      "2025-07-03 14:51:44,711 - ENACT - INFO - <load_image> Successfully loaded image!\n",
      "anndata.py (1820): Variable names are not unique. To make them unique, call `.var_names_make_unique`.\n",
      "anndata.py (1820): Variable names are not unique. To make them unique, call `.var_names_make_unique`.\n",
      "anndata.py (1820): Variable names are not unique. To make them unique, call `.var_names_make_unique`.\n",
      "_normalization.py (234): Some cells have zero counts\n"
     ]
    },
    {
     "ename": "",
     "evalue": "",
     "output_type": "error",
     "traceback": [
      "\u001b[1;31mThe Kernel crashed while executing code in the current cell or a previous cell. \n",
      "\u001b[1;31mPlease review the code in the cell(s) to identify a possible cause of the failure. \n",
      "\u001b[1;31mClick <a href='https://aka.ms/vscodeJupyterKernelCrash'>here</a> for more info. \n",
      "\u001b[1;31mView Jupyter <a href='command:jupyter.viewOutput'>log</a> for further details."
     ]
    }
   ],
   "source": [
    "from enact.pipeline import ENACT\n",
    "from PIL import Image\n",
    "import numpy as np\n",
    "import tifffile\n",
    "import numpy as np\n",
    "import os\n",
    "os.environ[\"OMP_DISPLAY_ENV\"] = \"TRUE\"\n",
    "\n",
    "file_path = \"../Backend/Data/H1-TXK6Z4X-D1_SK24-001_A1-5-004.tiff\"\n",
    "\n",
    "# 读取 TIFF 图像，得到 ndarray，形状一般是 (height, width, channels)\n",
    "img = tifffile.imread(file_path)\n",
    "\n",
    "print(f\"原始图像形状: {img.shape}\")\n",
    "\n",
    "# 判断是否有 alpha 通道 (假设通道是最后一维)\n",
    "if img.shape[-1] == 4:\n",
    "    # 去掉 alpha 通道，保留前三通道\n",
    "    img_rgb = img[..., :3]\n",
    "    \n",
    "    # 保存覆盖原文件，dtype 和原图保持一致\n",
    "    tifffile.imwrite(file_path, img_rgb)\n",
    "    print(\"已转换为 RGB 并覆盖原文件。\")\n",
    "else:\n",
    "    print(\"图像不是 RGBA，跳过转换。\")\n",
    "\n",
    "\n",
    "so_hd = ENACT(\n",
    "    image_type=\"he\",\n",
    "    cache_dir=\"./test_cache\",\n",
    "    wsi_path=\"../Backend/Data/H1-TXK6Z4X-D1_SK24-001_A1-5-004.tiff\",\n",
    "    visiumhd_h5_path=\"../Backend/Data/Poster/binned_outputs/square_002um/filtered_feature_bc_matrix.h5\",\n",
    "    tissue_positions_path=\"../Backend/Data/Poster/binned_outputs/square_002um/spatial/tissue_positions.parquet\",\n",
    "    analysis_name=\"demo-colon2\",\n",
    "    # bin_to_cell_method=\"weighted_by_area\",    \n",
    "    # cell_annotation_method=\"celltypist\",                \n",
    "    # cell_typist_model=\"Human_Colorectal_Cancer.pkl\",\n",
    "    segmentation=False,\n",
    "    bin_to_cell_assignment=True,\n",
    "    cell_type_annotation=False\n",
    ")\n",
    "\n",
    "so_hd.run_enact()"
   ]
  },
  {
   "cell_type": "code",
   "execution_count": 1,
   "metadata": {},
   "outputs": [
    {
     "name": "stdout",
     "output_type": "stream",
     "text": [
      "1.26.4 1.15.3\n"
     ]
    }
   ],
   "source": [
    "import numpy\n",
    "import scipy\n",
    "print(numpy.__version__, scipy.__version__)\n"
   ]
  }
 ],
 "metadata": {
  "kernelspec": {
   "display_name": "VDS",
   "language": "python",
   "name": "python3"
  },
  "language_info": {
   "codemirror_mode": {
    "name": "ipython",
    "version": 3
   },
   "file_extension": ".py",
   "mimetype": "text/x-python",
   "name": "python",
   "nbconvert_exporter": "python",
   "pygments_lexer": "ipython3",
   "version": "3.10.18"
  }
 },
 "nbformat": 4,
 "nbformat_minor": 2
}
