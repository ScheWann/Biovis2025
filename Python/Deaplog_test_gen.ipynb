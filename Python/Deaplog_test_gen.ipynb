{
 "cells": [
  {
   "cell_type": "code",
   "execution_count": null,
   "metadata": {},
   "outputs": [],
   "source": [
    "%matplotlib inline\n",
    "import scanpy as sc\n",
    "import anndata\n",
    "import os\n",
    "from scipy import sparse\n",
    "import numpy as np\n",
    "import pandas as pd\n",
    "sc.settings.verbosity = 3\n",
    "sc.logging.print_version_and_date()\n",
    "from matplotlib import pyplot as plt\n",
    "from matplotlib import rcParams\n",
    "import seaborn as sns"
   ]
  },
  {
   "cell_type": "code",
   "execution_count": null,
   "metadata": {},
   "outputs": [],
   "source": [
    "cells_adata_path = (\n",
    "    \"../Data/skin_TXK6Z4X_D1_processed/tmap/weighted_by_area_celltypist_cells_adata.h5\"\n",
    ")\n",
    "\n",
    "# Cropped whole slide image\n",
    "wsi_path = \"../Data/skin_TXK6Z4X_A1_processed/tmap/wsi.tif\"\n",
    "\n",
    "# Cell boundaries image\n",
    "cells_layer_path = \"../Data/skin_TXK6Z4X_A1_processed/cells_layer.png\"\n",
    "\n",
    "adata = sc.read_h5ad(cells_adata_path)"
   ]
  }
 ],
 "metadata": {
  "kernelspec": {
   "display_name": "Python (deaplog_env)",
   "language": "python",
   "name": "deaplog_env"
  },
  "language_info": {
   "name": "python",
   "version": "3.12.4"
  }
 },
 "nbformat": 4,
 "nbformat_minor": 2
}
