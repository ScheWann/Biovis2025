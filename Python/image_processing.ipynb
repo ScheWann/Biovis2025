{
 "cells": [
  {
   "cell_type": "code",
   "execution_count": 2,
   "metadata": {},
   "outputs": [],
   "source": [
    "import pandas as pd\n",
    "import numpy as np\n",
    "import scanpy as sc\n",
    "from PIL import Image\n",
    "import tifffile\n",
    "import cv2\n",
    "from cv2 import dnn_superres"
   ]
  },
  {
   "cell_type": "code",
   "execution_count": 2,
   "metadata": {},
   "outputs": [
    {
     "name": "stdout",
     "output_type": "stream",
     "text": [
      "Using Pillow - DPI: (5491.886176757813, 5491.886176757813), Size: (3200, 3000), Mode: RGB\n",
      "Using TiffFile - Total Pages: 1\n",
      "Page 1:\n",
      "  Size: (3000, 3200, 3)\n",
      "  XResolution: TiffTag 282 XResolution @19873768 RATIONAL @19874000 = (8856207, 4096)\n",
      "  YResolution: TiffTag 283 YResolution @19873780 RATIONAL @19874008 = (8856207, 4096)\n",
      "  Compression: 5\n"
     ]
    }
   ],
   "source": [
    "# image information\n",
    "\n",
    "image = Image.open(\"20240826_H1-TXK6Z4X_A1_sk24-001-a1-4.tif\")\n",
    "dpi = image.info.get(\"dpi\", (72, 72))\n",
    "print(f\"Using Pillow - DPI: {dpi}, Size: {image.size}, Mode: {image.mode}\")\n",
    "\n",
    "with tifffile.TiffFile(\"20240826_H1-TXK6Z4X_A1_sk24-001-a1-4.tif\") as tif:\n",
    "    print(f\"Using TiffFile - Total Pages: {len(tif.pages)}\")\n",
    "    for i, page in enumerate(tif.pages):\n",
    "        print(f\"Page {i + 1}:\")\n",
    "        print(f\"  Size: {page.shape}\")\n",
    "        print(f\"  XResolution: {page.tags.get('XResolution')}\")\n",
    "        print(f\"  YResolution: {page.tags.get('YResolution')}\")\n",
    "        print(f\"  Compression: {page.compression}\")\n"
   ]
  },
  {
   "cell_type": "code",
   "execution_count": 3,
   "metadata": {},
   "outputs": [
    {
     "name": "stdout",
     "output_type": "stream",
     "text": [
      "Using Pillow - DPI: (72, 72), Size: (6000, 4336), Mode: RGB\n"
     ]
    }
   ],
   "source": [
    "image = Image.open(\"tissue_hires_image.png\")\n",
    "dpi = image.info.get(\"dpi\", (72, 72))\n",
    "print(f\"Using Pillow - DPI: {dpi}, Size: {image.size}, Mode: {image.mode}\")"
   ]
  },
  {
   "cell_type": "code",
   "execution_count": 3,
   "metadata": {},
   "outputs": [
    {
     "data": {
      "text/plain": [
       "True"
      ]
     },
     "execution_count": 3,
     "metadata": {},
     "output_type": "execute_result"
    }
   ],
   "source": [
    "# models link: \n",
    "# https://github.com/Saafke/EDSR_Tensorflow/blob/master/models/EDSR_x4.pb\n",
    "# https://github.com/fannymonori/TF-LapSRN/blob/master/export/LapSRN_x8.pb\n",
    "\n",
    "sr = dnn_superres.DnnSuperResImpl_create()\n",
    "path = \"EDSR_x4.pb\"\n",
    "sr.readModel(path)\n",
    "\n",
    "sr.setModel(\"edsr\", 4)\n",
    "image = cv2.imread(\"test.png\")\n",
    "result = sr.upsample(image)\n",
    "cv2.imwrite(\"test_edsr_x4.png\", result)\n",
    "\n",
    "# traditional method - bicubic\n",
    "bicubic = cv2.resize(image, (result.shape[1], result.shape[0]), interpolation=cv2.INTER_CUBIC)\n",
    "# save the image\n",
    "cv2.imwrite('bicubic_test.png', bicubic)"
   ]
  }
 ],
 "metadata": {
  "kernelspec": {
   "display_name": "VDS",
   "language": "python",
   "name": "python3"
  },
  "language_info": {
   "codemirror_mode": {
    "name": "ipython",
    "version": 3
   },
   "file_extension": ".py",
   "mimetype": "text/x-python",
   "name": "python",
   "nbconvert_exporter": "python",
   "pygments_lexer": "ipython3",
   "version": "3.10.13"
  }
 },
 "nbformat": 4,
 "nbformat_minor": 2
}
